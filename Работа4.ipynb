{
  "cells": [
    {
      "cell_type": "markdown",
      "metadata": {
        "id": "view-in-github",
        "colab_type": "text"
      },
      "source": [
        "<a href=\"https://colab.research.google.com/github/cherrka/tamilla-latypova/blob/main/%D0%A0%D0%B0%D0%B1%D0%BE%D1%82%D0%B04.ipynb\" target=\"_parent\"><img src=\"https://colab.research.google.com/assets/colab-badge.svg\" alt=\"Open In Colab\"/></a>"
      ]
    },
    {
      "cell_type": "markdown",
      "metadata": {
        "id": "jKPKtpBBedCS"
      },
      "source": [
        "1.Заменить все вхождения подстроки Str1 на подстроку Str2, которые вводятся с клавиатуры."
      ]
    },
    {
      "cell_type": "code",
      "execution_count": null,
      "metadata": {
        "colab": {
          "base_uri": "https://localhost:8080/"
        },
        "id": "QzQaC3iHeboM",
        "outputId": "6a7cedae-add5-440a-e2f9-59fd039aa9dc"
      },
      "outputs": [
        {
          "name": "stdout",
          "output_type": "stream",
          "text": [
            "Введите исходную строку: привет мир привет мир\n",
            "Введите подстроку для замены (Str1): мир\n",
            "Введите новую подстроку (Str2): друг\n",
            "Результат замены: привет друг привет друг\n"
          ]
        }
      ],
      "source": [
        "original_string = input(\"Введите исходную строку: \")\n",
        "str1 = input(\"Введите подстроку для замены (Str1): \")\n",
        "str2 = input(\"Введите новую подстроку (Str2): \")\n",
        "modified_string = original_string.replace(str1, str2)\n",
        "print(\"Результат замены:\", modified_string)"
      ]
    },
    {
      "cell_type": "markdown",
      "metadata": {
        "id": "pbl8Gj1Kep-x"
      },
      "source": [
        "2.Дана строка символов, среди которых есть двоеточие (:). Определить, сколько символов ему предшествует."
      ]
    },
    {
      "cell_type": "code",
      "execution_count": null,
      "metadata": {
        "colab": {
          "base_uri": "https://localhost:8080/"
        },
        "id": "ImWXoYm6esxN",
        "outputId": "8360fa04-ac81-4a5e-b5cd-d3cbdecb6c85"
      },
      "outputs": [
        {
          "name": "stdout",
          "output_type": "stream",
          "text": [
            "Введите строку: рпипопо:саиьаи\n",
            "Количество символов перед двоеточием: 7\n"
          ]
        }
      ],
      "source": [
        "input_string = input(\"Введите строку: \")\n",
        "colon_index = input_string.find(':')\n",
        "if colon_index != -1:\n",
        "    count_before_colon = colon_index\n",
        "    print(\"Количество символов перед двоеточием:\", count_before_colon)\n",
        "else:\n",
        "    print(\"Двоеточие не найдено в строке.\")"
      ]
    },
    {
      "cell_type": "markdown",
      "metadata": {
        "id": "jStKe7BEgJIK"
      },
      "source": [
        "3.Выписать из символьной строки слова, начинающиеся и заканчивающиеся на одну и ту же букву."
      ]
    },
    {
      "cell_type": "code",
      "execution_count": null,
      "metadata": {
        "colab": {
          "base_uri": "https://localhost:8080/"
        },
        "id": "lBGLAEY5gJ2w",
        "outputId": "7856a003-b9eb-434e-ef92-09c77f5897d7"
      },
      "outputs": [
        {
          "name": "stdout",
          "output_type": "stream",
          "text": [
            "Введите строку: поарап оео трл улулу\n",
            "Слова, начинающиеся и заканчивающиеся на одну и ту же букву:\n",
            "['поарап', 'оео', 'улулу']\n"
          ]
        }
      ],
      "source": [
        "input_string = input(\"Введите строку: \")\n",
        "words = input_string.split()\n",
        "matching_words = [word for word in words if word[0].lower() == word[-1].lower()]\n",
        "print(\"Слова, начинающиеся и заканчивающиеся на одну и ту же букву:\")\n",
        "print(matching_words)"
      ]
    },
    {
      "cell_type": "markdown",
      "metadata": {
        "id": "3czmSAbFhSWj"
      },
      "source": [
        "1.Записать в файл последовательного доступа N произвольных натуральных чисел. Переписать в другой файл последовательного доступа те элементы, которые кратны K. Вывести полученный файл на печать."
      ]
    },
    {
      "cell_type": "code",
      "execution_count": null,
      "metadata": {
        "colab": {
          "base_uri": "https://localhost:8080/"
        },
        "id": "L4Tqz0swhUPA",
        "outputId": "dd501cfc-c389-4ee9-aafc-a2e6ac4cf547"
      },
      "outputs": [
        {
          "name": "stdout",
          "output_type": "stream",
          "text": [
            "Введите количество чисел для записи в файл: 3\n",
            "Введите число K: 5\n",
            "Введите натуральное число: 2\n",
            "Введите натуральное число: 25\n",
            "Введите натуральное число: 15\n",
            "Содержимое файла:\n",
            "25\n",
            "15\n"
          ]
        }
      ],
      "source": [
        "def write_numbers_to_file(filename, N):\n",
        "    with open(filename, 'w') as f:\n",
        "        for _ in range(N):\n",
        "            number = int(input(\"Введите натуральное число: \"))\n",
        "            f.write(f\"{number}\\n\")\n",
        "def write_multiples_to_file(input_filename, output_filename, K):\n",
        "    with open(input_filename, 'r') as infile, open(output_filename, 'w') as outfile:\n",
        "        for line in infile:\n",
        "            number = int(line.strip())\n",
        "            if number % K == 0:\n",
        "                outfile.write(f\"{number}\\n\")\n",
        "def print_file_contents(filename):\n",
        "    with open(filename, 'r') as f:\n",
        "        print(\"Содержимое файла:\")\n",
        "        for line in f:\n",
        "            print(line.strip())\n",
        "N = int(input(\"Введите количество чисел для записи в файл: \"))\n",
        "K = int(input(\"Введите число K: \"))\n",
        "input_filename = 'numbers.txt'\n",
        "write_numbers_to_file(input_filename, N)\n",
        "output_filename = 'multiples_of_K.txt'\n",
        "write_multiples_to_file(input_filename, output_filename, K)\n",
        "print_file_contents(output_filename)"
      ]
    },
    {
      "cell_type": "markdown",
      "metadata": {
        "id": "HTD61JJ-hy0G"
      },
      "source": [
        "2.Дан файл Т, который содержит номера телефонов сотрудников учреждения: указывается фамилия, инициалы и номер телефона. Найти номер телефона сотрудника по его фамилии и инициалам."
      ]
    },
    {
      "cell_type": "code",
      "execution_count": null,
      "metadata": {
        "colab": {
          "base_uri": "https://localhost:8080/"
        },
        "id": "gXkEr3j1h4IV",
        "outputId": "792eb2f4-2692-448c-95db-758bf66ade37"
      },
      "outputs": [
        {
          "name": "stdout",
          "output_type": "stream",
          "text": [
            "Файл 'text_file.txt' успешно создан!\n",
            "Файл пуст или не содержит слов.\n"
          ]
        }
      ],
      "source": [
        "def generate_employee_file(file_path):\n",
        "    employees = [\n",
        "        \"Иванов И.И. +7 (123) 456-78-90\",\n",
        "        \"Петров П.П. +7 (234) 567-89-01\",\n",
        "        \"Сидоров С.С. +7 (345) 678-90-12\",\n",
        "        \"Кузнецов К.К. +7 (456) 789-01-23\"\n",
        "    ]\n",
        "    with open(file_path, 'w', encoding='utf-8') as file:\n",
        "        for employee in employees:\n",
        "            file.write(employee + '\\n')\n",
        "def find_phone_number(file_path, last_name, initials):\n",
        "    search_key = f\"{last_name} {initials}\"\n",
        "    with open(file_path, 'r', encoding='utf-8') as file:\n",
        "        for line in file:\n",
        "            if line.startswith(search_key):\n",
        "                return line.strip()\n",
        "    return \"Сотрудник не найден.\"\n",
        "file_path = 'employees.txt'\n",
        "generate_employee_file(file_path)\n",
        "last_name = input(\"Введите фамилию сотрудника: \")\n",
        "initials = input(\"Введите инициалы сотрудника (например, И.И.): \")\n",
        "result = find_phone_number(file_path, last_name, initials)\n",
        "print(result)"
      ]
    },
    {
      "cell_type": "markdown",
      "metadata": {
        "id": "rze9tWkuqpmu"
      },
      "source": [
        "3. Дан файл, содержащий текст на русском языке. Определить, сколько раз встречается в нем самое длинное слово."
      ]
    },
    {
      "cell_type": "code",
      "execution_count": 3,
      "metadata": {
        "colab": {
          "base_uri": "https://localhost:8080/"
        },
        "id": "r3xiEsPwrjPE",
        "outputId": "8834e41e-d61f-444e-fd47-bfae4fd15928"
      },
      "outputs": [
        {
          "output_type": "stream",
          "name": "stdout",
          "text": [
            "Самое длинное слово: Непредсказуемость\n",
            "Количество вхождений: 1\n"
          ]
        }
      ],
      "source": [
        "text = \"\"\"\n",
        "Жизнь — это удивительное приключение, полное непредсказуемых поворотов и вдохновляющих моментов.\n",
        "Каждое утро приносит возможность изменить свою судьбу и стать лучше, чем вчера.\n",
        "Непредсказуемость делает её особенно захватывающей.\n",
        "\"\"\"\n",
        "file_name = \"russian_text.txt\"\n",
        "with open(file_name, \"w\", encoding=\"utf-8\") as file:\n",
        "    file.write(text)\n",
        "with open(file_name, \"r\", encoding=\"utf-8\") as file:\n",
        "    content = file.read()\n",
        "import re\n",
        "words = re.findall(r'\\b[а-яА-ЯёЁ]+\\b', content)\n",
        "max_length = max(len(word) for word in words)\n",
        "longest_words = [word for word in words if len(word) == max_length]\n",
        "longest_word = longest_words[0]\n",
        "count = words.count(longest_word)\n",
        "print(f\"Самое длинное слово: {longest_word}\")\n",
        "print(f\"Количество вхождений: {count}\")"
      ]
    }
  ],
  "metadata": {
    "colab": {
      "provenance": [],
      "authorship_tag": "ABX9TyMVZF2Mltjrv9OynvjydsSo",
      "include_colab_link": true
    },
    "kernelspec": {
      "display_name": "Python 3",
      "name": "python3"
    },
    "language_info": {
      "name": "python"
    }
  },
  "nbformat": 4,
  "nbformat_minor": 0
}