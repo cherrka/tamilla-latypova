{
  "nbformat": 4,
  "nbformat_minor": 0,
  "metadata": {
    "colab": {
      "provenance": [],
      "authorship_tag": "ABX9TyMwJAfJgpdPvS4GqCCDluQs",
      "include_colab_link": true
    },
    "kernelspec": {
      "name": "python3",
      "display_name": "Python 3"
    },
    "language_info": {
      "name": "python"
    }
  },
  "cells": [
    {
      "cell_type": "markdown",
      "metadata": {
        "id": "view-in-github",
        "colab_type": "text"
      },
      "source": [
        "<a href=\"https://colab.research.google.com/github/cherrka/tamilla-latypova/blob/main/%D0%A0%D0%B0%D0%B1%D0%BE%D1%82%D0%B02.ipynb\" target=\"_parent\"><img src=\"https://colab.research.google.com/assets/colab-badge.svg\" alt=\"Open In Colab\"/></a>"
      ]
    },
    {
      "cell_type": "markdown",
      "source": [
        "Задача 6: Создайте класс Queue, реализующий очередь. Реализуйте методы enqueue(item), добавляющий элемент в очередь; dequeue(), удаляющий первый элемент; peek(), возвращающий первый элемент; и is_empty(), проверяющий, пуста ли очередь."
      ],
      "metadata": {
        "id": "Yt-pja1nNkzP"
      }
    },
    {
      "cell_type": "code",
      "execution_count": null,
      "metadata": {
        "colab": {
          "base_uri": "https://localhost:8080/"
        },
        "id": "rP9khh2cNULE",
        "outputId": "c0892781-074d-44c6-b9e2-9c9167761866"
      },
      "outputs": [
        {
          "output_type": "stream",
          "name": "stdout",
          "text": [
            "[2, 3, 4, 5]\n",
            "2\n",
            "False\n"
          ]
        }
      ],
      "source": [
        "class Queue():\n",
        "  def __init__(self):\n",
        "    self.items = []\n",
        "  def enqueue(self, item):\n",
        "    self.items.append(item)\n",
        "  def dequeue(self):\n",
        "    if self.is_empty() == False:\n",
        "      self.items.pop(0)\n",
        "      return self.items\n",
        "  def peek(self):\n",
        "   if self.is_empty() == False:\n",
        "      return self.items.pop(0)\n",
        "  def is_empty(self):\n",
        "    return len(self.items) == 0\n",
        "queue = Queue()\n",
        "queue.enqueue(1)\n",
        "queue.enqueue(2)\n",
        "queue.enqueue(3)\n",
        "queue.enqueue(4)\n",
        "queue.enqueue(5)\n",
        "print(queue.dequeue())\n",
        "print(queue.peek())\n",
        "print(queue.is_empty())"
      ]
    },
    {
      "cell_type": "markdown",
      "source": [
        "Задача 6. Определите класс Circle, который наследуется от класса Shape. Класс Circle должен реализовать метод getArea() для вычисления площади круга."
      ],
      "metadata": {
        "id": "LBMjuuO6bSmT"
      }
    },
    {
      "cell_type": "code",
      "source": [
        "import abc\n",
        "class Shape(abc.ABC):\n",
        "    @abc.abstractmethod\n",
        "    def getArea (self): pass\n",
        "class Circle(Shape):\n",
        "    def __init__(self, radius):\n",
        "        self.radius = radius\n",
        "    def getArea (self): return self.radius * self.radius * 3.14\n",
        "circle = Circle(10)\n",
        "print(circle.getArea())"
      ],
      "metadata": {
        "colab": {
          "base_uri": "https://localhost:8080/"
        },
        "id": "3DoBPyMRbg5X",
        "outputId": "a2ec8132-cf3e-446d-e546-ce2559564a20"
      },
      "execution_count": 7,
      "outputs": [
        {
          "output_type": "stream",
          "name": "stdout",
          "text": [
            "314.0\n"
          ]
        }
      ]
    },
    {
      "cell_type": "markdown",
      "source": [
        "Задача 6. Создать класс Circle, в котором поля radius и color будут приватными. Реализовать методы для изменения радиуса и цвета с проверкой допустимых значений."
      ],
      "metadata": {
        "id": "leI_s84mjOPj"
      }
    },
    {
      "cell_type": "code",
      "source": [
        "class Circle:\n",
        "  def __init__(self, radius, color):\n",
        "    self.__radius = radius\n",
        "    self.__color = color\n",
        "  def set_radius(self, new_radius):\n",
        "    if (new_radius > 0):\n",
        "      self.__radius = new_radius\n",
        "    else:\n",
        "      print(\"ошибка!\")\n",
        "  def set_color(self, new_color):\n",
        "    a = [\"красный\", \"оранжевый\", \"жёлтый\", \"зелёный\", \"синий\", \"фиолетовый\", \"розовый\", \"чёрный\", \"белый\", \"серый\", \"коричневый\"]\n",
        "    if (new_color != a):\n",
        "      self.__color = new_color\n",
        "    else:\n",
        "      print(\"ошибка!\")\n",
        "  def show(self):\n",
        "    print(self.__radius, self.__color)\n",
        "circle = Circle(1, \"черный\")\n",
        "circle.set_radius(-1)\n",
        "circle.set_color(\"красный\")\n",
        "circle.show()"
      ],
      "metadata": {
        "colab": {
          "base_uri": "https://localhost:8080/"
        },
        "id": "OrW7xDddjhX_",
        "outputId": "971e8c1e-ff64-4e93-f6ba-906078f998d6"
      },
      "execution_count": 14,
      "outputs": [
        {
          "output_type": "stream",
          "name": "stdout",
          "text": [
            "ошибка!\n",
            "1 красный\n"
          ]
        }
      ]
    },
    {
      "cell_type": "markdown",
      "source": [
        "Задача 6. Мобильный телефон и батарея. Постройте класс `Мобильный телефон`, который включает батарею. Телефон должен иметь метод для проверки состояния батареи. Класс `Батарея` должен включать `емкость` и `уровень заряда`, а также метод для подзарядки. Батарея не может существовать отдельно от телефона."
      ],
      "metadata": {
        "id": "NCQTwJvDoDas"
      }
    },
    {
      "cell_type": "code",
      "source": [
        "class Battery:\n",
        "  def __init__(self, capacity):\n",
        "    self.capacity = capacity\n",
        "    self.charge_level = 0\n",
        "  def recharge(self, charging):\n",
        "    if (charging < 0):\n",
        "      print(\"недостаточно подзарядки!\")\n",
        "      return\n",
        "    self.charge_level += charging\n",
        "    if (self.charge_level > self.capacity):\n",
        "      self.charge_level = self.capacity\n",
        "    print(\"батарея подзаряжена\")\n",
        "  def check_charge(self):\n",
        "        return f\"уровень заряда: {self.charge_level}/{self.capacity}\"\n",
        "class Mobile_phone:\n",
        "  def __init__(self, battery_capacity):\n",
        "    self.battery = Battery(battery_capacity)\n",
        "  def check_battery_status(self):\n",
        "        return self.battery.check_charge()\n",
        "  def recharge_battery(self, amount):\n",
        "        self.battery.recharge(amount)\n",
        "phone = Mobile_phone(100)\n",
        "print(phone.check_battery_status())\n",
        "phone.recharge_battery(90)\n",
        "print(phone.check_battery_status())"
      ],
      "metadata": {
        "colab": {
          "base_uri": "https://localhost:8080/"
        },
        "id": "__g-ZVqvAgDU",
        "outputId": "8696a598-779c-45b6-891d-7e88da58e17a"
      },
      "execution_count": 10,
      "outputs": [
        {
          "output_type": "stream",
          "name": "stdout",
          "text": [
            "уровень заряда: 0/100\n",
            "батарея подзаряжена\n",
            "уровень заряда: 90/100\n"
          ]
        }
      ]
    },
    {
      "cell_type": "markdown",
      "source": [
        "Задача 6. Университет и преподаватель. Создайте класс `Университет`, в котором есть список преподавателей. У преподавателей есть поля `имя` и `специальность`. Преподаватели могут существовать независимо от университета."
      ],
      "metadata": {
        "id": "N080hFJ6IfjX"
      }
    },
    {
      "cell_type": "code",
      "source": [
        "class Teacher:\n",
        "  def __init__(self, name, specialization):\n",
        "    self.name = name\n",
        "    self.specialization = specialization\n",
        "  def show(self):\n",
        "    print(f\"преподаватель - имя: {self.name}; специальность: {self.specialization}\")\n",
        "class University:\n",
        "  def __init__(self):\n",
        "    self.teacher = []\n",
        "  def add(self, teacher):\n",
        "    self.teacher.append(teacher)\n",
        "  def info(self):\n",
        "    print(\"информация о преподавателях в университете: \")\n",
        "    for teacher in self.teacher: teacher.show()\n",
        "teacher1 = Teacher(\"Татьяна\",\"филология\")\n",
        "teacher2 = Teacher(\"Ольга\",\"психология\")\n",
        "teacher3 = Teacher(\"Светлана\",\"программирование\")\n",
        "university = University()\n",
        "university.add(teacher1)\n",
        "university.add(teacher2)\n",
        "university.add(teacher3)\n",
        "university.info()"
      ],
      "metadata": {
        "colab": {
          "base_uri": "https://localhost:8080/"
        },
        "id": "vfRwb5OhI-wj",
        "outputId": "437c82ba-3710-47c9-ffed-d448db761efe"
      },
      "execution_count": 14,
      "outputs": [
        {
          "output_type": "stream",
          "name": "stdout",
          "text": [
            "информация о преподавателях в университете: \n",
            "преподаватель - имя: Татьяна; специальность: филология\n",
            "преподаватель - имя: Ольга; специальность: психология\n",
            "преподаватель - имя: Светлана; специальность: программирование\n"
          ]
        }
      ]
    },
    {
      "cell_type": "markdown",
      "source": [
        "Задача 6. Создать абстрактный класс Fruit с абстрактным методом taste(). Реализовать подклассы Apple и Banana, которые реализуют метод taste()."
      ],
      "metadata": {
        "id": "yKPvAlx_N8-S"
      }
    },
    {
      "cell_type": "code",
      "source": [
        "import abc\n",
        "class Fruit(abc.ABC):\n",
        "    @abc.abstractmethod\n",
        "    def taste (self): pass\n",
        "class Apple(Fruit):\n",
        "    def taste(self):\n",
        "        return \"сладкий и хрустящий\"\n",
        "class Banana(Fruit):\n",
        "    def taste(self):\n",
        "        return \"мягкий и сладкий\"\n",
        "apple = Apple()\n",
        "banana = Banana()\n",
        "print(\"яблоко: \",apple.taste())\n",
        "print(\"банан: \",banana.taste())"
      ],
      "metadata": {
        "colab": {
          "base_uri": "https://localhost:8080/"
        },
        "id": "Hm4rU32VN9b5",
        "outputId": "66a7c495-ae38-4c6a-a7f2-8ba2db6a7d9c"
      },
      "execution_count": 17,
      "outputs": [
        {
          "output_type": "stream",
          "name": "stdout",
          "text": [
            "яблоко:  сладкий и хрустящий\n",
            "банан:  мягкий и сладкий\n"
          ]
        }
      ]
    },
    {
      "cell_type": "markdown",
      "source": [
        "Задача 6. Создать интерфейс IQueue, который содержит методы enqueue(T item), dequeue(), peek() и isEmpty(). Создать класс Queue<T>, реализующий этот интерфейс."
      ],
      "metadata": {
        "id": "ZuSoexGeat8e"
      }
    },
    {
      "cell_type": "code",
      "source": [
        "from abc import ABC, abstractmethod\n",
        "from typing import TypeVar, Generic, Optional\n",
        "T = TypeVar('T')\n",
        "class IQueue(ABC, Generic[T]):\n",
        "    @abstractmethod\n",
        "    def enqueue(self, item: T) -> None:\n",
        "        pass\n",
        "    @abstractmethod\n",
        "    def dequeue(self) -> Optional[T]:\n",
        "        pass\n",
        "    @abstractmethod\n",
        "    def peek(self) -> Optional[T]:\n",
        "        pass\n",
        "    @abstractmethod\n",
        "    def is_empty(self) -> bool:\n",
        "        pass\n",
        "class Queue(IQueue[T]):\n",
        "    def __init__(self):\n",
        "        self.items = []\n",
        "    def enqueue(self, item: T) -> None:\n",
        "        self.items.append(item)\n",
        "    def dequeue(self) -> Optional[T]:\n",
        "        if not self.is_empty():\n",
        "            return self.items.pop(0)\n",
        "        return None\n",
        "    def peek(self) -> Optional[T]:\n",
        "        if not self.is_empty():\n",
        "            return self.items[0]\n",
        "        return None\n",
        "    def is_empty(self) -> bool:\n",
        "        return len(self.items) == 0\n",
        "queue = Queue[int]()\n",
        "queue.enqueue(1)\n",
        "queue.enqueue(2)\n",
        "queue.enqueue(3)\n",
        "print(\"Peek:\", queue.peek())\n",
        "print(\"Dequeue:\", queue.dequeue())\n",
        "print(\"Is empty:\", queue.is_empty())\n",
        "print(\"Dequeue:\", queue.dequeue())\n",
        "print(\"Dequeue:\", queue.dequeue())\n",
        "print(\"Is empty:\", queue.is_empty())"
      ],
      "metadata": {
        "colab": {
          "base_uri": "https://localhost:8080/"
        },
        "id": "P7xWToXea39C",
        "outputId": "91efed21-db32-4b91-9627-fe75ba87bee1"
      },
      "execution_count": 19,
      "outputs": [
        {
          "output_type": "stream",
          "name": "stdout",
          "text": [
            "Peek: 1\n",
            "Dequeue: 1\n",
            "Is empty: False\n",
            "Dequeue: 2\n",
            "Dequeue: 3\n",
            "Is empty: True\n"
          ]
        }
      ]
    },
    {
      "cell_type": "markdown",
      "source": [
        "Задача 6. Реализуйте метод getShapeType() в классе Circle, который возвращает тип фигуры. Создайте несколько подклассов, таких как FilledCircle и OutlinedCircle, которые будут переопределять этот метод для возвращения различной информации."
      ],
      "metadata": {
        "id": "6AdouWmhb-eV"
      }
    },
    {
      "cell_type": "code",
      "source": [
        "class Circle:\n",
        "    def __init__(self, radius: float):\n",
        "        self.radius = radius\n",
        "    def getShapeType(self) -> str:\n",
        "        return \"Circle\"\n",
        "class FilledCircle(Circle):\n",
        "    def __init__(self, radius: float, color: str):\n",
        "        super().__init__(radius)\n",
        "        self.color = color\n",
        "    def getShapeType(self) -> str:\n",
        "        return f\"Filled Circle (Color: {self.color})\"\n",
        "class OutlinedCircle(Circle):\n",
        "    def __init__(self, radius: float, line_thickness: float):\n",
        "        super().__init__(radius)\n",
        "        self.line_thickness = line_thickness\n",
        "    def getShapeType(self) -> str:\n",
        "        return f\"Outlined Circle (Line Thickness: {self.line_thickness})\"\n",
        "circle = Circle(5)\n",
        "filled_circle = FilledCircle(5, \"Red\")\n",
        "outlined_circle = OutlinedCircle(5, 2)\n",
        "print(circle.getShapeType())\n",
        "print(filled_circle.getShapeType())\n",
        "print(outlined_circle.getShapeType())"
      ],
      "metadata": {
        "colab": {
          "base_uri": "https://localhost:8080/"
        },
        "id": "nF7PIpfDb_Je",
        "outputId": "74f007bd-641a-4bdb-93ea-1377992b3084"
      },
      "execution_count": 20,
      "outputs": [
        {
          "output_type": "stream",
          "name": "stdout",
          "text": [
            "Circle\n",
            "Filled Circle (Color: Red)\n",
            "Outlined Circle (Line Thickness: 2)\n"
          ]
        }
      ]
    }
  ]
}