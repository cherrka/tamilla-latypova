{
  "nbformat": 4,
  "nbformat_minor": 0,
  "metadata": {
    "colab": {
      "provenance": [],
      "authorship_tag": "ABX9TyMOnwksssG+IGkkhaaPpQMx",
      "include_colab_link": true
    },
    "kernelspec": {
      "name": "python3",
      "display_name": "Python 3"
    },
    "language_info": {
      "name": "python"
    }
  },
  "cells": [
    {
      "cell_type": "markdown",
      "metadata": {
        "id": "view-in-github",
        "colab_type": "text"
      },
      "source": [
        "<a href=\"https://colab.research.google.com/github/cherrka/tamilla-latypova/blob/main/%D1%80%D0%B0%D0%B1%D0%BE%D1%82%D0%B01.ipynb\" target=\"_parent\"><img src=\"https://colab.research.google.com/assets/colab-badge.svg\" alt=\"Open In Colab\"/></a>"
      ]
    },
    {
      "cell_type": "markdown",
      "source": [
        "1)![Снимок экрана 2025-03-17 191633.png](data:image/png;base64,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)"
      ],
      "metadata": {
        "id": "GomoOubn4X05"
      }
    },
    {
      "cell_type": "code",
      "source": [
        "x = int(input(\"введите х = \"));\n",
        "y = int(input(\"введите y = \"));\n",
        "z = (x**2 - y**2)/(6*y - 6*x)**2;\n",
        "print(\"z =\", z);"
      ],
      "metadata": {
        "colab": {
          "base_uri": "https://localhost:8080/"
        },
        "id": "rHgwHArT5eg8",
        "outputId": "1e66d98f-4f66-40ee-925b-4e9c314b6ce5"
      },
      "execution_count": null,
      "outputs": [
        {
          "output_type": "stream",
          "name": "stdout",
          "text": [
            "введите х = 7\n",
            "введите y = 5\n",
            "z = 0.16666666666666666\n"
          ]
        }
      ]
    },
    {
      "cell_type": "markdown",
      "source": [
        "2)![Снимок экрана 2025-03-17 192724.png](data:image/png;base64,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)"
      ],
      "metadata": {
        "id": "IVfboolb7kDH"
      }
    },
    {
      "cell_type": "code",
      "source": [
        "import math;\n",
        "x = int(input(\"введите х = \"));\n",
        "y = math.exp(math.sin(x))+math.log1p(math.sin(x));\n",
        "print(\"y =\", y);"
      ],
      "metadata": {
        "colab": {
          "base_uri": "https://localhost:8080/"
        },
        "id": "lyJQl4ZE7po8",
        "outputId": "4a9bf8d5-7912-4877-866f-2a9f42e6265c"
      },
      "execution_count": null,
      "outputs": [
        {
          "output_type": "stream",
          "name": "stdout",
          "text": [
            "введите х = 1\n",
            "y = 2.930341525213356\n"
          ]
        }
      ]
    },
    {
      "cell_type": "markdown",
      "source": [
        "3)Дана длина ребра куба. Найти площадь грани, площадь полной поверхности и объем этого куба."
      ],
      "metadata": {
        "id": "8MyR3t1Oz6XM"
      }
    },
    {
      "cell_type": "code",
      "source": [
        "r = int(input(\"введите длину ребра куба = \"));\n",
        "sg = r*r;\n",
        "sp = 6*r*r;\n",
        "v = r*r*r;\n",
        "print(\"площадь грани =\",sg,\"\\nплощадь полной поверхности =\",sp,\"\\nобъем куба =\", v);"
      ],
      "metadata": {
        "colab": {
          "base_uri": "https://localhost:8080/"
        },
        "id": "zFmFbgsQ503Y",
        "outputId": "3835abed-0eb9-4fde-cf22-11fe4b859433"
      },
      "execution_count": null,
      "outputs": [
        {
          "output_type": "stream",
          "name": "stdout",
          "text": [
            "введите длину ребра куба = 6\n",
            "площадь грани = 36 \n",
            "площадь полной поверхности = 216 \n",
            "объем куба = 216\n"
          ]
        }
      ]
    },
    {
      "cell_type": "markdown",
      "source": [
        "4) Дано трехзначное число. Вывести число, полученное при прочтении исходного числа справа налево."
      ],
      "metadata": {
        "id": "L10K5tRx8tUu"
      }
    },
    {
      "cell_type": "code",
      "source": [
        "a = str(input(\"введите число = \"));\n",
        "print(a[::-1]);"
      ],
      "metadata": {
        "colab": {
          "base_uri": "https://localhost:8080/"
        },
        "id": "ajiQed3181-7",
        "outputId": "b073b6a1-a343-496d-9efb-da5caf97f2fa"
      },
      "execution_count": null,
      "outputs": [
        {
          "output_type": "stream",
          "name": "stdout",
          "text": [
            "введите число = 123\n",
            "321\n"
          ]
        }
      ]
    },
    {
      "cell_type": "markdown",
      "source": [
        "5) Даны целые числа a, b, c, являющиеся сторонами некоторого треугольника. Проверить истинность высказывания: «Треугольник со сторонами a, b, c является прямоугольным»."
      ],
      "metadata": {
        "id": "66VdMplrCSgB"
      }
    },
    {
      "cell_type": "code",
      "source": [
        "a = int(input(\"введите a = \"));\n",
        "b = int(input(\"введите b = \"));\n",
        "c = int(input(\"введите c = \"));\n",
        "res = (a**2 + b**2 == c**2) or (a**2 + c**2 == b**2) or (c**2 + b**2 == a**2);\n",
        "print(res);"
      ],
      "metadata": {
        "colab": {
          "base_uri": "https://localhost:8080/"
        },
        "id": "9pDApTFOCpm9",
        "outputId": "f418b244-9b56-43f6-f375-040da3732971"
      },
      "execution_count": null,
      "outputs": [
        {
          "output_type": "stream",
          "name": "stdout",
          "text": [
            "введите a = 4\n",
            "введите b = 4\n",
            "введите c = 4\n",
            "False\n"
          ]
        }
      ]
    },
    {
      "cell_type": "markdown",
      "source": [
        "1)![Снимок экрана 2025-03-17 195541.png](data:image/png;base64,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)"
      ],
      "metadata": {
        "id": "k1Q9uFOWCHPM"
      }
    },
    {
      "cell_type": "code",
      "source": [
        "x = float(input(\"введите х = \"));\n",
        "if x > 0 and x <= 1:\n",
        "  f = x**2 - x;\n",
        "else:\n",
        "  f = x**2 - math.sin(math.pi*x**2);\n",
        "print(\"f(x) =\", f);"
      ],
      "metadata": {
        "colab": {
          "base_uri": "https://localhost:8080/"
        },
        "id": "Et2FMNaDCLmc",
        "outputId": "ff6391d0-ff70-4838-ee5f-19b43abfd532"
      },
      "execution_count": null,
      "outputs": [
        {
          "output_type": "stream",
          "name": "stdout",
          "text": [
            "введите х = 5\n",
            "f(x) = 25.0\n"
          ]
        }
      ]
    },
    {
      "cell_type": "markdown",
      "source": [
        "2) Определить, равен ли квадрат заданного трехзначного числа кубу суммы цифр этого числа."
      ],
      "metadata": {
        "id": "v2eMJU_dDR8A"
      }
    },
    {
      "cell_type": "code",
      "source": [
        "a = int(input(\"введите трехзначное число = \"));\n",
        "b = 0;\n",
        "while a != 0:\n",
        "  b += a % 10;\n",
        "  a = a // 10;\n",
        "if a**2 == b**3:\n",
        "  print(\"равен\");\n",
        "else:\n",
        "  print(\"не равен\");"
      ],
      "metadata": {
        "colab": {
          "base_uri": "https://localhost:8080/"
        },
        "id": "ex8giHDYDXh2",
        "outputId": "443bb010-b82a-426b-baba-00926b547861"
      },
      "execution_count": null,
      "outputs": [
        {
          "output_type": "stream",
          "name": "stdout",
          "text": [
            "введите трехзначное число = 0\n",
            "равен\n"
          ]
        }
      ]
    },
    {
      "cell_type": "markdown",
      "source": [
        "3) Дан радиус круга R. Определить поместится ли правильный треугольник со стороной а в этом круге."
      ],
      "metadata": {
        "id": "nhByNdxuEZVN"
      }
    },
    {
      "cell_type": "code",
      "source": [
        "r = int(input(\"введите радиус = \"));\n",
        "a = int(input(\"введите сторону треугольника = \"));\n",
        "if a >= r:\n",
        "  print(\"треугольник поместится\");\n",
        "else:\n",
        "  print(\"треугольник не поместится\");"
      ],
      "metadata": {
        "colab": {
          "base_uri": "https://localhost:8080/"
        },
        "id": "uGIddJRIEcqd",
        "outputId": "501bb729-ed2b-4d84-a752-c26394e3881b"
      },
      "execution_count": null,
      "outputs": [
        {
          "output_type": "stream",
          "name": "stdout",
          "text": [
            "введите радиус = 5\n",
            "введите сторону треугольника = 5\n",
            "треугольник поместится\n"
          ]
        }
      ]
    },
    {
      "cell_type": "markdown",
      "source": [
        "4) Известны год и номер месяца рождения человека, а также год и номер месяца сегодняшнего дня (январь — 1 и т. д.). Определить возраст человека (число полных лет). В случае совпадения указанных номеров месяцев читать, что прошел полный год."
      ],
      "metadata": {
        "id": "-hDRoWg3Ho5P"
      }
    },
    {
      "cell_type": "code",
      "source": [
        "y1 = int(input(\"введите год рождение человека = \"));\n",
        "m1 = int(input(\"введите месяц рождения человека = \"));\n",
        "y2 = int(input(\"введите нынешний год = \"));\n",
        "m2 = int(input(\"введите нынешний месяц = \"));\n",
        "if m1 > m2:\n",
        "  v = y2 - y1 - 1;\n",
        "else:\n",
        "  v = y2 - y1;\n",
        "print(\"возраст человека =\", v);"
      ],
      "metadata": {
        "colab": {
          "base_uri": "https://localhost:8080/"
        },
        "id": "ccUzgYB4Hpe0",
        "outputId": "ee5e4ab5-697a-44cd-85be-76c0e0fac3b3"
      },
      "execution_count": null,
      "outputs": [
        {
          "output_type": "stream",
          "name": "stdout",
          "text": [
            "введите год рождение человека = 2006\n",
            "введите месяц рождения человека = 2\n",
            "введите нынешний год = 2025\n",
            "введите нынешний месяц = 3\n",
            "возраст человека = 19\n"
          ]
        }
      ]
    },
    {
      "cell_type": "markdown",
      "source": [
        "5) В некоторых странах Дальнего Востока (Китае, Японии и др.) использовался (и неофициально используется в настоящее время) календарь, отличающийся от применяемого нами. Этот календарь представляет собой 60-летнюю циклическую систему. Каждый 60-летний цикл состоит из пяти 12-летних подциклов. В каждом подцикле года носят названия животных: Крыса, Корова, Тигр, Заяц, Дракон, Змея, Лошадь, Овца, Обезьяна, Петух, Собака и Свинья. Кроме того, в названии года фигурируют цвета животных, которые связанышенно не совпадает с его \"естественной\" окраской — Тигр может быть черным, Свинья — красной, а Лошадь — зеленой. Например, 1984 год — год начала очередного цикла — назывался годом Зеленой Крысы. Каждый цвет в цикле (начиная с зеленого) \"действует\" два года, поэтому через каждые 60 лет имя года (животное и его цвет) повторяется. Составить программу, которая по заданному номеру года нашей эры n печатает его название по описанному календарю в виде: \"Крыса, Зеленый\". Рассмотреть два случая:\n",
        "\n",
        "а) значение n 1984;\n",
        "\n",
        "б) значение n"
      ],
      "metadata": {
        "id": "kCN-zCjOKOGA"
      }
    },
    {
      "cell_type": "code",
      "source": [
        "n = int(input(\"введите n = \"));\n",
        "base_year = 1984;\n",
        "animals = [ \"Крыса\", \"Корова\", \"Тигр\", \"Заяц\", \"Дракон\", \"Змея\", \"Лошадь\", \"Овца\", \"Обезьяна\", \"Петух\", \"Собака\", \"Свинья\"];\n",
        "colors = [\"Зеленый\", \"Красный\", \"Желтый\", \"Белый\", \"Черный\"];\n",
        "years = abs(n - base_year);\n",
        "animals_index = years % 12;\n",
        "colors_index = (years // 2) % 5;\n",
        "year_name = f\"{animals[animals_index]}, {colors[colors_index]}\";\n",
        "print(\"название года -\", year_name);"
      ],
      "metadata": {
        "colab": {
          "base_uri": "https://localhost:8080/"
        },
        "id": "5Fl7hfvDKTDd",
        "outputId": "8716eec1-77a9-474c-9f12-342ef60963ee"
      },
      "execution_count": null,
      "outputs": [
        {
          "output_type": "stream",
          "name": "stdout",
          "text": [
            "введите n = 2043\n",
            "название года - Свинья, Черный\n"
          ]
        }
      ]
    },
    {
      "cell_type": "markdown",
      "source": [
        "1) Составить программу для проверки утверждения: «Результатами вычислений по формуле х2+х+41 при 0≤х≤40 являются простые числа.». Все результаты вывести на экран."
      ],
      "metadata": {
        "id": "SkLnFpZ2Oa8s"
      }
    },
    {
      "cell_type": "code",
      "source": [
        "for x in range(0, 41):\n",
        "  for i in range(2, (x**2 + x + 41)):\n",
        "    if (x**2 + x + 41) % i == 0:\n",
        "      break;\n",
        "  print(x**2 + x + 41);"
      ],
      "metadata": {
        "colab": {
          "base_uri": "https://localhost:8080/"
        },
        "id": "vBgY_UrsOepw",
        "outputId": "d7a74f84-e0f5-4af7-9677-a1a4705f2c03"
      },
      "execution_count": null,
      "outputs": [
        {
          "output_type": "stream",
          "name": "stdout",
          "text": [
            "41\n",
            "43\n",
            "47\n",
            "53\n",
            "61\n",
            "71\n",
            "83\n",
            "97\n",
            "113\n",
            "131\n",
            "151\n",
            "173\n",
            "197\n",
            "223\n",
            "251\n",
            "281\n",
            "313\n",
            "347\n",
            "383\n",
            "421\n",
            "461\n",
            "503\n",
            "547\n",
            "593\n",
            "641\n",
            "691\n",
            "743\n",
            "797\n",
            "853\n",
            "911\n",
            "971\n",
            "1033\n",
            "1097\n",
            "1163\n",
            "1231\n",
            "1301\n",
            "1373\n",
            "1447\n",
            "1523\n",
            "1601\n",
            "1681\n"
          ]
        }
      ]
    },
    {
      "cell_type": "markdown",
      "source": [
        "2)![Снимок экрана 2025-03-18 110548.png](data:image/png;base64,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)"
      ],
      "metadata": {
        "id": "pQb_ErTrRi7U"
      }
    },
    {
      "cell_type": "code",
      "source": [
        "a = float(input(\"введите число а = \"));\n",
        "n = int(input(\"введите число n = \"));\n",
        "s = 1/a;\n",
        "for n in range(2, 2*n - 1, 2):\n",
        "  s += 1/(a**n);\n",
        "print(\"s =\",s);"
      ],
      "metadata": {
        "colab": {
          "base_uri": "https://localhost:8080/"
        },
        "id": "diTL-nAsSc6K",
        "outputId": "c804772e-4624-44b3-a13e-025e0eefd076"
      },
      "execution_count": null,
      "outputs": [
        {
          "output_type": "stream",
          "name": "stdout",
          "text": [
            "введите число а = 0.5\n",
            "введите число n = 4\n",
            "s = 86.0\n"
          ]
        }
      ]
    },
    {
      "cell_type": "markdown",
      "source": [
        "3)![Снимок экрана 2025-03-18 113134.png](data:image/png;base64,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)"
      ],
      "metadata": {
        "id": "fhvgG225YYoH"
      }
    },
    {
      "cell_type": "code",
      "source": [
        "import math;\n",
        "a = 1;\n",
        "n = 1;\n",
        "s = 0;\n",
        "while a > 10**(-3):\n",
        "  a = (3**n * math.factorial(n))/math.factorial(2 * n);\n",
        "  s += a;\n",
        "  n += 1;\n",
        "print(\"сумма ряда =\", s);"
      ],
      "metadata": {
        "id": "mCK0FyABYdxZ",
        "outputId": "17705dfd-857d-45e7-9007-c9785d2bbafd",
        "colab": {
          "base_uri": "https://localhost:8080/"
        }
      },
      "execution_count": 2,
      "outputs": [
        {
          "output_type": "stream",
          "name": "stdout",
          "text": [
            "сумма ряда = 2.5324722152847152\n"
          ]
        }
      ]
    }
  ]
}