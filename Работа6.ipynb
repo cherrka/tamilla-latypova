{
  "nbformat": 4,
  "nbformat_minor": 0,
  "metadata": {
    "colab": {
      "provenance": [],
      "authorship_tag": "ABX9TyPLlvgA9x+qw6Wx8UT6nXhg",
      "include_colab_link": true
    },
    "kernelspec": {
      "name": "python3",
      "display_name": "Python 3"
    },
    "language_info": {
      "name": "python"
    }
  },
  "cells": [
    {
      "cell_type": "markdown",
      "metadata": {
        "id": "view-in-github",
        "colab_type": "text"
      },
      "source": [
        "<a href=\"https://colab.research.google.com/github/cherrka/tamilla-latypova/blob/main/%D0%A0%D0%B0%D0%B1%D0%BE%D1%82%D0%B06.ipynb\" target=\"_parent\"><img src=\"https://colab.research.google.com/assets/colab-badge.svg\" alt=\"Open In Colab\"/></a>"
      ]
    },
    {
      "cell_type": "markdown",
      "source": [
        "1. Создание базы данных и таблиц\n",
        "Создайте базу данных library.db и таблицу books с полями:\n",
        "\n",
        "id (PRIMARY KEY, AUTOINCREMENT),\n",
        "title (TEXT, NOT NULL),\n",
        "author (TEXT, NOT NULL),\n",
        "year_published (INTEGER),\n",
        "genre (TEXT)."
      ],
      "metadata": {
        "id": "B4Ux5jfmIUvF"
      }
    },
    {
      "cell_type": "code",
      "execution_count": 1,
      "metadata": {
        "colab": {
          "base_uri": "https://localhost:8080/"
        },
        "id": "B0x6d3xzH1Eb",
        "outputId": "692df64a-ec84-416f-8786-2ebc6e6c5bff"
      },
      "outputs": [
        {
          "output_type": "stream",
          "name": "stdout",
          "text": [
            "База данных и таблица успешно созданы.\n"
          ]
        }
      ],
      "source": [
        "import sqlite3\n",
        "conn = sqlite3.connect('library.db')\n",
        "cursor = conn.cursor()\n",
        "create_table_query = '''\n",
        "CREATE TABLE IF NOT EXISTS books (\n",
        "    id INTEGER PRIMARY KEY AUTOINCREMENT,\n",
        "    title TEXT NOT NULL,\n",
        "    author TEXT NOT NULL,\n",
        "    year_published INTEGER,\n",
        "    genre TEXT\n",
        ");\n",
        "'''\n",
        "cursor.execute(create_table_query)\n",
        "conn.commit()\n",
        "conn.close()\n",
        "print(\"База данных и таблица успешно созданы.\")"
      ]
    },
    {
      "cell_type": "markdown",
      "source": [
        "2. Вставка данных\n",
        "Добавьте в таблицу books следующие записи:\n",
        "\n",
        "\"The Great Gatsby\", автор: F. Scott Fitzgerald, год: 1925, жанр: Fiction.\n",
        "\"1984\", автор: George Orwell, год: 1949, жанр: Dystopian.\n",
        "\"To Kill a Mockingbird\", автор: Harper Lee, год: 1960, жанр: Classic."
      ],
      "metadata": {
        "id": "Feuoke80Ii7u"
      }
    },
    {
      "cell_type": "code",
      "source": [
        "import sqlite3\n",
        "conn = sqlite3.connect('library.db')\n",
        "cursor = conn.cursor()\n",
        "insert_books_query = '''\n",
        "INSERT INTO books (title, author, year_published, genre) VALUES\n",
        "    (?, ?, ?, ?);\n",
        "'''\n",
        "books_data = [\n",
        "    (\"The Great Gatsby\", \"F. Scott Fitzgerald\", 1925, \"Fiction\"),\n",
        "    (\"1984\", \"George Orwell\", 1949, \"Dystopian\"),\n",
        "    (\"To Kill a Mockingbird\", \"Harper Lee\", 1960, \"Classic\")\n",
        "]\n",
        "cursor.executemany(insert_books_query, books_data)\n",
        "conn.commit()\n",
        "conn.close()\n",
        "print(\"Данные успешно добавлены в таблицу books.\")"
      ],
      "metadata": {
        "colab": {
          "base_uri": "https://localhost:8080/"
        },
        "id": "CFShxZt9Ij5y",
        "outputId": "5d421f91-15af-4cf9-bb84-066c93b9ad66"
      },
      "execution_count": 2,
      "outputs": [
        {
          "output_type": "stream",
          "name": "stdout",
          "text": [
            "Данные успешно добавлены в таблицу books.\n"
          ]
        }
      ]
    },
    {
      "cell_type": "markdown",
      "source": [
        "3. Выборка всех данных\n",
        "Напишите запрос, который выбирает все книги из таблицы books."
      ],
      "metadata": {
        "id": "DJjAl_yhIsss"
      }
    },
    {
      "cell_type": "code",
      "source": [
        "import sqlite3\n",
        "conn = sqlite3.connect('library.db')\n",
        "cursor = conn.cursor()\n",
        "select_all_books_query = 'SELECT * FROM books;'\n",
        "cursor.execute(select_all_books_query)\n",
        "books = cursor.fetchall()\n",
        "for book in books:\n",
        "    print(book)\n",
        "conn.close()"
      ],
      "metadata": {
        "colab": {
          "base_uri": "https://localhost:8080/"
        },
        "id": "OMEoNEtrIuzV",
        "outputId": "a70a2902-d82c-4432-ca9b-a7184c5906e3"
      },
      "execution_count": 3,
      "outputs": [
        {
          "output_type": "stream",
          "name": "stdout",
          "text": [
            "(1, 'The Great Gatsby', 'F. Scott Fitzgerald', 1925, 'Fiction')\n",
            "(2, '1984', 'George Orwell', 1949, 'Dystopian')\n",
            "(3, 'To Kill a Mockingbird', 'Harper Lee', 1960, 'Classic')\n"
          ]
        }
      ]
    },
    {
      "cell_type": "markdown",
      "source": [
        "4. Фильтрация данных\n",
        "Выберите все книги, опубликованные после 1950 года."
      ],
      "metadata": {
        "id": "KcHfYykCI4HS"
      }
    },
    {
      "cell_type": "code",
      "source": [
        "import sqlite3\n",
        "conn = sqlite3.connect('library.db')\n",
        "cursor = conn.cursor()\n",
        "select_books_after_1950_query = 'SELECT * FROM books WHERE year_published > 1950;'\n",
        "cursor.execute(select_books_after_1950_query)\n",
        "books_after_1950 = cursor.fetchall()\n",
        "for book in books_after_1950:\n",
        "    print(book)\n",
        "conn.close()"
      ],
      "metadata": {
        "colab": {
          "base_uri": "https://localhost:8080/"
        },
        "id": "4kLy09C_I6Ww",
        "outputId": "0da402e5-6658-47a5-ee69-678df2d2d019"
      },
      "execution_count": 5,
      "outputs": [
        {
          "output_type": "stream",
          "name": "stdout",
          "text": [
            "(3, 'To Kill a Mockingbird', 'Harper Lee', 1960, 'Classic')\n"
          ]
        }
      ]
    },
    {
      "cell_type": "markdown",
      "source": [
        "5. Использование оператора LIKE\n",
        "Найдите все книги, название которых начинается с буквы \"T\"."
      ],
      "metadata": {
        "id": "N5OhXzGoJu33"
      }
    },
    {
      "cell_type": "code",
      "source": [
        "import sqlite3\n",
        "conn = sqlite3.connect('library.db')\n",
        "cursor = conn.cursor()\n",
        "select_books_starting_with_T_query = \"SELECT * FROM books WHERE title LIKE 'T%';\"\n",
        "cursor.execute(select_books_starting_with_T_query)\n",
        "books_starting_with_T = cursor.fetchall()\n",
        "for book in books_starting_with_T:\n",
        "    print(book)\n",
        "conn.close()"
      ],
      "metadata": {
        "colab": {
          "base_uri": "https://localhost:8080/"
        },
        "id": "eM9N6VBVJ2Po",
        "outputId": "a92e2c46-7c10-41be-a36d-a4a461bd4cb3"
      },
      "execution_count": 6,
      "outputs": [
        {
          "output_type": "stream",
          "name": "stdout",
          "text": [
            "(1, 'The Great Gatsby', 'F. Scott Fitzgerald', 1925, 'Fiction')\n",
            "(3, 'To Kill a Mockingbird', 'Harper Lee', 1960, 'Classic')\n"
          ]
        }
      ]
    },
    {
      "cell_type": "markdown",
      "source": [
        "6. Сортировка данных\n",
        "Отсортируйте книги по году публикации в порядке возрастания."
      ],
      "metadata": {
        "id": "ckLbd_FUJ-h6"
      }
    },
    {
      "cell_type": "code",
      "source": [
        "import sqlite3\n",
        "conn = sqlite3.connect('library.db')\n",
        "cursor = conn.cursor()\n",
        "select_sorted_books_query = \"SELECT * FROM books ORDER BY year_published ASC;\"\n",
        "cursor.execute(select_sorted_books_query)\n",
        "sorted_books = cursor.fetchall()\n",
        "for book in sorted_books:\n",
        "    print(book)\n",
        "conn.close()"
      ],
      "metadata": {
        "colab": {
          "base_uri": "https://localhost:8080/"
        },
        "id": "BxR-V6tyKBE_",
        "outputId": "b2fdd88b-9afb-40dd-b88a-a29a0916cb21"
      },
      "execution_count": 8,
      "outputs": [
        {
          "output_type": "stream",
          "name": "stdout",
          "text": [
            "(1, 'The Great Gatsby', 'F. Scott Fitzgerald', 1925, 'Fiction')\n",
            "(2, '1984', 'George Orwell', 1949, 'Dystopian')\n",
            "(3, 'To Kill a Mockingbird', 'Harper Lee', 1960, 'Classic')\n"
          ]
        }
      ]
    },
    {
      "cell_type": "markdown",
      "source": [
        "7. Ограничение количества строк\n",
        "Выберите первые две книги из таблицы books, отсортированные по названию."
      ],
      "metadata": {
        "id": "ZSqhxLIrKMkK"
      }
    },
    {
      "cell_type": "code",
      "source": [
        "import sqlite3\n",
        "conn = sqlite3.connect('library.db')\n",
        "cursor = conn.cursor()\n",
        "select_limited_books_query = \"SELECT * FROM books ORDER BY title ASC LIMIT 2;\"\n",
        "cursor.execute(select_limited_books_query)\n",
        "limited_books = cursor.fetchall()\n",
        "for book in limited_books:\n",
        "    print(book)\n",
        "conn.close()"
      ],
      "metadata": {
        "colab": {
          "base_uri": "https://localhost:8080/"
        },
        "id": "zxhqs0J2KgmJ",
        "outputId": "99e01d27-1943-4e79-af6d-1c08a44f16d8"
      },
      "execution_count": 10,
      "outputs": [
        {
          "output_type": "stream",
          "name": "stdout",
          "text": [
            "(2, '1984', 'George Orwell', 1949, 'Dystopian')\n",
            "(1, 'The Great Gatsby', 'F. Scott Fitzgerald', 1925, 'Fiction')\n"
          ]
        }
      ]
    },
    {
      "cell_type": "markdown",
      "source": [
        "8. Агрегатные функции\n",
        "Подсчитайте общее количество книг в таблице books."
      ],
      "metadata": {
        "id": "HJZBYCH0KtP2"
      }
    },
    {
      "cell_type": "code",
      "source": [
        "import sqlite3\n",
        "conn = sqlite3.connect('library.db')\n",
        "cursor = conn.cursor()\n",
        "count_books_query = \"SELECT COUNT(*) AS total_books FROM books;\"\n",
        "cursor.execute(count_books_query)\n",
        "total_books = cursor.fetchone()[0]\n",
        "print(f\"Общее количество книг: {total_books}\")\n",
        "conn.close()"
      ],
      "metadata": {
        "colab": {
          "base_uri": "https://localhost:8080/"
        },
        "id": "vDhLWribKxGC",
        "outputId": "a9b4980d-bcb7-4c4a-9169-c22d3bdcac20"
      },
      "execution_count": 11,
      "outputs": [
        {
          "output_type": "stream",
          "name": "stdout",
          "text": [
            "Общее количество книг: 3\n"
          ]
        }
      ]
    },
    {
      "cell_type": "markdown",
      "source": [
        "9. Группировка данных\n",
        "Подсчитайте количество книг для каждого жанра."
      ],
      "metadata": {
        "id": "p-IRD2LfK6zF"
      }
    },
    {
      "cell_type": "code",
      "source": [
        "import sqlite3\n",
        "conn = sqlite3.connect('library.db')\n",
        "cursor = conn.cursor()\n",
        "count_books_by_genre_query = \"\"\"\n",
        "SELECT genre, COUNT(*) AS total_books\n",
        "FROM books\n",
        "GROUP BY genre;\n",
        "\"\"\"\n",
        "cursor.execute(count_books_by_genre_query)\n",
        "results = cursor.fetchall()\n",
        "for genre, total_books in results:\n",
        "    print(f\"Жанр: {genre}, Количество книг: {total_books}\")\n",
        "conn.close()"
      ],
      "metadata": {
        "colab": {
          "base_uri": "https://localhost:8080/"
        },
        "id": "hRte8a8TK9vk",
        "outputId": "2e3dc7e0-81b4-4513-bf71-6dbb18e2e0b7"
      },
      "execution_count": 12,
      "outputs": [
        {
          "output_type": "stream",
          "name": "stdout",
          "text": [
            "Жанр: Classic, Количество книг: 1\n",
            "Жанр: Dystopian, Количество книг: 1\n",
            "Жанр: Fiction, Количество книг: 1\n"
          ]
        }
      ]
    },
    {
      "cell_type": "markdown",
      "source": [
        "10. Обновление данных\n",
        "Обновите год публикации книги \"1984\" на 1948."
      ],
      "metadata": {
        "id": "Eis5fVURLEVF"
      }
    },
    {
      "cell_type": "code",
      "source": [
        "import sqlite3\n",
        "conn = sqlite3.connect('library.db')\n",
        "cursor = conn.cursor()\n",
        "update_publication_year_query = \"\"\"\n",
        "UPDATE books\n",
        "SET year_published = 1948\n",
        "WHERE title = '1984';\n",
        "\"\"\"\n",
        "cursor.execute(update_publication_year_query)\n",
        "conn.commit()\n",
        "conn.close()"
      ],
      "metadata": {
        "id": "m85-doitLGk0"
      },
      "execution_count": 15,
      "outputs": []
    },
    {
      "cell_type": "markdown",
      "source": [
        "11. Удаление данных\n",
        "Удалите книгу с названием \"The Great Gatsby\"."
      ],
      "metadata": {
        "id": "S2XL4N8gLbPV"
      }
    },
    {
      "cell_type": "code",
      "source": [
        "import sqlite3\n",
        "conn = sqlite3.connect('library.db')\n",
        "cursor = conn.cursor()\n",
        "delete_book_query = \"\"\"\n",
        "DELETE FROM books\n",
        "WHERE title = 'The Great Gatsby';\n",
        "\"\"\"\n",
        "cursor.execute(delete_book_query)\n",
        "conn.commit()\n",
        "conn.close()"
      ],
      "metadata": {
        "id": "0tLsXVQXLhH0"
      },
      "execution_count": 18,
      "outputs": []
    },
    {
      "cell_type": "markdown",
      "source": [
        "12. Создание индекса\n",
        "Создайте индекс для столбца author в таблице books."
      ],
      "metadata": {
        "id": "GAbUgB35LsBo"
      }
    },
    {
      "cell_type": "code",
      "source": [
        "import sqlite3\n",
        "conn = sqlite3.connect('library.db')\n",
        "cursor = conn.cursor()\n",
        "cursor.execute(\"DROP INDEX IF EXISTS idx_author;\")\n",
        "cursor.execute(\"CREATE INDEX idx_author ON books(author);\")\n",
        "conn.commit()\n",
        "conn.close()"
      ],
      "metadata": {
        "id": "eAMfkRYXLsg1"
      },
      "execution_count": 26,
      "outputs": []
    },
    {
      "cell_type": "markdown",
      "source": [
        "13. Проверка существования индекса\n",
        "Проверьте, существует ли индекс для столбца author."
      ],
      "metadata": {
        "id": "h9p8cUAwMfmI"
      }
    },
    {
      "cell_type": "code",
      "source": [
        "import sqlite3\n",
        "conn = sqlite3.connect('library.db')\n",
        "cursor = conn.cursor()\n",
        "cursor.execute(\"\"\"\n",
        "    SELECT name\n",
        "    FROM sqlite_master\n",
        "    WHERE type = 'index' AND tbl_name = 'books' AND name = 'idx_author';\n",
        "\"\"\")\n",
        "index_exists = cursor.fetchone()\n",
        "if index_exists:\n",
        "    print(f\"Индекс '{index_exists[0]}' существует.\")\n",
        "else:\n",
        "    print(\"Индекс 'idx_author' не существует.\")\n",
        "conn.close()"
      ],
      "metadata": {
        "colab": {
          "base_uri": "https://localhost:8080/"
        },
        "id": "ZRIIW_iCMhpU",
        "outputId": "61b0cc15-3dd1-49df-8c21-d942fb59f5b0"
      },
      "execution_count": 27,
      "outputs": [
        {
          "output_type": "stream",
          "name": "stdout",
          "text": [
            "Индекс 'idx_author' существует.\n"
          ]
        }
      ]
    },
    {
      "cell_type": "markdown",
      "source": [
        "14. Триггер для логирования\n",
        "Создайте триггер, который записывает изменения в таблицу logs при добавлении новой книги."
      ],
      "metadata": {
        "id": "_KOEiFr5Mvy5"
      }
    },
    {
      "cell_type": "code",
      "source": [
        "import sqlite3\n",
        "conn = sqlite3.connect('library.db')\n",
        "cursor = conn.cursor()\n",
        "cursor.execute('''\n",
        "CREATE TABLE IF NOT EXISTS books (\n",
        "    id INTEGER PRIMARY KEY AUTOINCREMENT,\n",
        "    title TEXT NOT NULL,\n",
        "    author TEXT NOT NULL,\n",
        "    published_date DATE\n",
        ")\n",
        "''')\n",
        "cursor.execute('''\n",
        "CREATE TABLE IF NOT EXISTS logs (\n",
        "    id INTEGER PRIMARY KEY AUTOINCREMENT,\n",
        "    book_id INTEGER,\n",
        "    action TEXT,\n",
        "    log_time DATETIME DEFAULT CURRENT_TIMESTAMP,\n",
        "    FOREIGN KEY (book_id) REFERENCES books(id)\n",
        ")\n",
        "''')\n",
        "cursor.execute('''\n",
        "CREATE TRIGGER IF NOT EXISTS log_book_insert\n",
        "AFTER INSERT ON books\n",
        "BEGIN\n",
        "    INSERT INTO logs (book_id, action)\n",
        "    VALUES (new.id, 'added');\n",
        "END;\n",
        "''')\n",
        "conn.commit()\n",
        "conn.close()\n",
        "def add_book(title, author, published_date):\n",
        "    conn = sqlite3.connect('library.db')\n",
        "    cursor = conn.cursor()\n",
        "    cursor.execute('''\n",
        "    INSERT INTO books (title, author, year_published)\n",
        "    VALUES (?, ?, ?)\n",
        "    ''', (title, author, published_date))\n",
        "    conn.commit()\n",
        "    conn.close()\n",
        "def view_logs():\n",
        "    conn = sqlite3.connect('library.db')\n",
        "    cursor = conn.cursor()\n",
        "    cursor.execute('SELECT * FROM logs')\n",
        "    logs = cursor.fetchall()\n",
        "    for log in logs:\n",
        "        print(log)\n",
        "    conn.close()\n",
        "add_book('1984', 'George Orwell', '1949-06-08')\n",
        "view_logs()"
      ],
      "metadata": {
        "colab": {
          "base_uri": "https://localhost:8080/"
        },
        "id": "q8vYofE3MydT",
        "outputId": "221a96dd-3bd5-4bcd-b383-83376fdb30c2"
      },
      "execution_count": 35,
      "outputs": [
        {
          "output_type": "stream",
          "name": "stdout",
          "text": [
            "(1, 4, 'added', '2025-04-29 06:20:40')\n",
            "(2, 5, 'added', '2025-04-29 06:21:18')\n",
            "(3, 6, 'added', '2025-04-29 06:21:21')\n",
            "(4, 7, 'added', '2025-04-29 06:21:22')\n",
            "(5, 8, 'added', '2025-04-29 06:21:23')\n",
            "(6, 9, 'added', '2025-04-29 06:21:23')\n",
            "(7, 10, 'added', '2025-04-29 06:21:23')\n"
          ]
        }
      ]
    },
    {
      "cell_type": "markdown",
      "source": [
        "15. Транзакции\n",
        "Создайте программу, которая выполняет следующие действия в рамках одной транзакции:\n",
        "\n",
        "Добавляет новую книгу.\n",
        "Обновляет год публикации другой книги.\n",
        "Отменяет изменения, если возникает ошибка."
      ],
      "metadata": {
        "id": "xz9j9PFZNV6u"
      }
    },
    {
      "cell_type": "code",
      "source": [
        "import sqlite3\n",
        "def setup_database():\n",
        "    conn = sqlite3.connect('library.db')\n",
        "    cursor = conn.cursor()\n",
        "    cursor.execute('''\n",
        "    CREATE TABLE IF NOT EXISTS books (\n",
        "        id INTEGER PRIMARY KEY AUTOINCREMENT,\n",
        "        title TEXT NOT NULL,\n",
        "        author TEXT NOT NULL,\n",
        "        published_date DATE\n",
        "    )\n",
        "    ''')\n",
        "    cursor.execute('''\n",
        "    CREATE TABLE IF NOT EXISTS logs (\n",
        "        id INTEGER PRIMARY KEY AUTOINCREMENT,\n",
        "        book_id INTEGER,\n",
        "        action TEXT,\n",
        "        log_time DATETIME DEFAULT CURRENT_TIMESTAMP,\n",
        "        FOREIGN KEY (book_id) REFERENCES books(id)\n",
        "    )\n",
        "    ''')\n",
        "    conn.commit()\n",
        "    conn.close()\n",
        "def add_book(title, author, published_date):\n",
        "    conn = sqlite3.connect('library.db')\n",
        "    cursor = conn.cursor()\n",
        "    cursor.execute('''\n",
        "    INSERT INTO books (title, author, year_published)\n",
        "    VALUES (?, ?, ?)\n",
        "    ''', (title, author, published_date))\n",
        "    conn.commit()\n",
        "    conn.close()\n",
        "def update_published_year(book_id, new_year):\n",
        "    conn = sqlite3.connect('library.db')\n",
        "    cursor = conn.cursor()\n",
        "    cursor.execute('''\n",
        "    UPDATE books SET year_published = ?\n",
        "    WHERE id = ?\n",
        "    ''', (new_year, book_id))\n",
        "    conn.commit()\n",
        "    conn.close()\n",
        "def perform_transaction(new_book, book_to_update_id, new_year):\n",
        "    conn = sqlite3.connect('library.db')\n",
        "    try:\n",
        "        conn.execute('BEGIN TRANSACTION')\n",
        "        add_book(*new_book)\n",
        "        update_published_year(book_to_update_id, new_year)\n",
        "        conn.commit()\n",
        "        print(\"Транзакция успешно завершена.\")\n",
        "    except Exception as e:\n",
        "        conn.rollback()\n",
        "        print(\"Ошибка:\", e)\n",
        "        print(\"Изменения отменены.\")\n",
        "    finally:\n",
        "        conn.close()\n",
        "setup_database()\n",
        "add_book('1984', 'George Orwell', '1949-06-08')\n",
        "add_book('Brave New World', 'Aldous Huxley', '1932-01-01')\n",
        "perform_transaction(\n",
        "    new_book=('The Great Gatsby', 'F. Scott Fitzgerald', '1925-04-10'),\n",
        "    book_to_update_id=1,\n",
        "    new_year='1950-01-01'\n",
        ")"
      ],
      "metadata": {
        "colab": {
          "base_uri": "https://localhost:8080/"
        },
        "id": "v6HOMti2NWYR",
        "outputId": "9f5778fb-4c89-4e4c-fb00-6102ed7b3c26"
      },
      "execution_count": 38,
      "outputs": [
        {
          "output_type": "stream",
          "name": "stdout",
          "text": [
            "Транзакция успешно завершена.\n"
          ]
        }
      ]
    },
    {
      "cell_type": "markdown",
      "source": [
        "16. Пользовательская функция\n",
        "Создайте пользовательскую функцию на Python, которая вычисляет возраст книги (текущий год минус год публикации), и используйте её в SQL-запросе."
      ],
      "metadata": {
        "id": "tZnSDSG4N-qK"
      }
    },
    {
      "cell_type": "code",
      "source": [
        "import sqlite3\n",
        "from datetime import datetime\n",
        "def setup_database():\n",
        "    conn = sqlite3.connect('library.db')\n",
        "    cursor = conn.cursor()\n",
        "    cursor.execute('''\n",
        "    CREATE TABLE IF NOT EXISTS books (\n",
        "        id INTEGER PRIMARY KEY AUTOINCREMENT,\n",
        "        title TEXT NOT NULL,\n",
        "        author TEXT NOT NULL,\n",
        "        year_published DATE\n",
        "    )\n",
        "    ''')\n",
        "    conn.commit()\n",
        "    conn.close()\n",
        "def add_book(title, author, published_date):\n",
        "    conn = sqlite3.connect('library.db')\n",
        "    cursor = conn.cursor()\n",
        "    cursor.execute('''\n",
        "    INSERT INTO books (title, author, year_published)\n",
        "    VALUES (?, ?, ?)\n",
        "    ''', (title, author, published_date))\n",
        "    conn.commit()\n",
        "    conn.close()\n",
        "def calculate_book_age(published_date):\n",
        "    try:\n",
        "        published_date_obj = datetime.strptime(published_date, '%Y-%m-%d')\n",
        "        current_year = datetime.now().year\n",
        "        return current_year - published_date_obj.year\n",
        "    except Exception as e:\n",
        "        print(f\"Error calculating book age: {e}\")\n",
        "        return None\n",
        "def main():\n",
        "    setup_database()\n",
        "    add_book('1984', 'George Orwell', '1949-06-08')\n",
        "    add_book('Brave New World', 'Aldous Huxley', '1932-01-01')\n",
        "    conn = sqlite3.connect('library.db')\n",
        "    conn.create_function(\"calculate_book_age\", 1, calculate_book_age)\n",
        "    cursor = conn.cursor()\n",
        "    cursor.execute('''\n",
        "    SELECT title, author, year_published, calculate_book_age(year_published) AS age\n",
        "    FROM books\n",
        "    ''')\n",
        "    for row in cursor.fetchall():\n",
        "        age = row[3] if row[3] is not None else \"Error calculating age\"\n",
        "        print(f\"Title: {row[0]}, Author: {row[1]}, Published Date: {row[2]}, Age: {age} years\")\n",
        "    conn.close()\n",
        "if __name__ == \"__main__\":\n",
        "    main()"
      ],
      "metadata": {
        "colab": {
          "base_uri": "https://localhost:8080/"
        },
        "id": "V6luTRmDOCFm",
        "outputId": "66bb4da6-fc71-40e6-90db-b63d78806e2e"
      },
      "execution_count": 45,
      "outputs": [
        {
          "output_type": "stream",
          "name": "stdout",
          "text": [
            "Error calculating book age: strptime() argument 1 must be str, not int\n",
            "Error calculating book age: strptime() argument 1 must be str, not int\n",
            "Title: 1984, Author: George Orwell, Published Date: 1948, Age: Error calculating age years\n",
            "Title: To Kill a Mockingbird, Author: Harper Lee, Published Date: 1960, Age: Error calculating age years\n",
            "Title: 1984, Author: George Orwell, Published Date: 1949-06-08, Age: 76 years\n",
            "Title: 1984, Author: George Orwell, Published Date: 1949-06-08, Age: 76 years\n",
            "Title: 1984, Author: George Orwell, Published Date: 1949-06-08, Age: 76 years\n",
            "Title: 1984, Author: George Orwell, Published Date: 1949-06-08, Age: 76 years\n",
            "Title: 1984, Author: George Orwell, Published Date: 1949-06-08, Age: 76 years\n",
            "Title: 1984, Author: George Orwell, Published Date: 1949-06-08, Age: 76 years\n",
            "Title: 1984, Author: George Orwell, Published Date: 1949-06-08, Age: 76 years\n",
            "Title: 1984, Author: George Orwell, Published Date: 1949-06-08, Age: 76 years\n",
            "Title: Brave New World, Author: Aldous Huxley, Published Date: 1932-01-01, Age: 93 years\n",
            "Title: The Great Gatsby, Author: F. Scott Fitzgerald, Published Date: 1925-04-10, Age: 100 years\n",
            "Title: 1984, Author: George Orwell, Published Date: 1949-06-08, Age: 76 years\n",
            "Title: Brave New World, Author: Aldous Huxley, Published Date: 1932-01-01, Age: 93 years\n",
            "Title: The Great Gatsby, Author: F. Scott Fitzgerald, Published Date: 1925-04-10, Age: 100 years\n",
            "Title: 1984, Author: George Orwell, Published Date: 1949-06-08, Age: 76 years\n",
            "Title: Brave New World, Author: Aldous Huxley, Published Date: 1932-01-01, Age: 93 years\n",
            "Title: 1984, Author: George Orwell, Published Date: 1949-06-08, Age: 76 years\n",
            "Title: Brave New World, Author: Aldous Huxley, Published Date: 1932-01-01, Age: 93 years\n",
            "Title: 1984, Author: George Orwell, Published Date: 1949-06-08, Age: 76 years\n",
            "Title: Brave New World, Author: Aldous Huxley, Published Date: 1932-01-01, Age: 93 years\n",
            "Title: 1984, Author: George Orwell, Published Date: 1949-06-08, Age: 76 years\n",
            "Title: Brave New World, Author: Aldous Huxley, Published Date: 1932-01-01, Age: 93 years\n",
            "Title: 1984, Author: George Orwell, Published Date: 1949-06-08, Age: 76 years\n",
            "Title: Brave New World, Author: Aldous Huxley, Published Date: 1932-01-01, Age: 93 years\n"
          ]
        }
      ]
    },
    {
      "cell_type": "markdown",
      "source": [
        "17. Представления\n",
        "Создайте представление modern_books, которое содержит книги, опубликованные после 1950 года."
      ],
      "metadata": {
        "id": "YrhPuktUPCFA"
      }
    },
    {
      "cell_type": "code",
      "source": [
        "import sqlite3\n",
        "def setup_database():\n",
        "    conn = sqlite3.connect('library.db')\n",
        "    cursor = conn.cursor()\n",
        "    cursor.execute('''\n",
        "    CREATE TABLE IF NOT EXISTS books (\n",
        "        id INTEGER PRIMARY KEY AUTOINCREMENT,\n",
        "        title TEXT NOT NULL,\n",
        "        author TEXT NOT NULL,\n",
        "        year_published DATE\n",
        "    )\n",
        "    ''')\n",
        "    conn.commit()\n",
        "    conn.close()\n",
        "def add_book(title, author, published_date):\n",
        "    conn = sqlite3.connect('library.db')\n",
        "    cursor = conn.cursor()\n",
        "    cursor.execute('''\n",
        "    INSERT INTO books (title, author, year_published)\n",
        "    VALUES (?, ?, ?)\n",
        "    ''', (title, author, published_date))\n",
        "    conn.commit()\n",
        "    conn.close()\n",
        "def create_modern_books_view():\n",
        "    conn = sqlite3.connect('library.db')\n",
        "    cursor = conn.cursor()\n",
        "    cursor.execute('''\n",
        "    CREATE VIEW IF NOT EXISTS modern_books AS\n",
        "    SELECT *\n",
        "    FROM books\n",
        "    WHERE year_published > '1950-01-01';\n",
        "    ''')\n",
        "    conn.commit()\n",
        "    conn.close()\n",
        "def main():\n",
        "    setup_database()\n",
        "    add_book('1984', 'George Orwell', '1949-06-08')\n",
        "    add_book('Fahrenheit 451', 'Ray Bradbury', '1953-10-19')\n",
        "    add_book('Dune', 'Frank Herbert', '1965-08-01')\n",
        "    create_modern_books_view()\n",
        "    conn = sqlite3.connect('library.db')\n",
        "    cursor = conn.cursor()\n",
        "    cursor.execute('SELECT * FROM modern_books')\n",
        "    print(\"Modern Books:\")\n",
        "    for row in cursor.fetchall():\n",
        "        print(row)\n",
        "    conn.close()\n",
        "if __name__ == \"__main__\":\n",
        "    main()"
      ],
      "metadata": {
        "colab": {
          "base_uri": "https://localhost:8080/"
        },
        "id": "fsk9Dk_dPDj2",
        "outputId": "142c85d1-e3a0-4411-e5aa-a9006b31f503"
      },
      "execution_count": 49,
      "outputs": [
        {
          "output_type": "stream",
          "name": "stdout",
          "text": [
            "Modern Books:\n",
            "(28, 'Fahrenheit 451', 'Ray Bradbury', '1953-10-19', None)\n",
            "(29, 'Dune', 'Frank Herbert', '1965-08-01', None)\n",
            "(31, 'Fahrenheit 451', 'Ray Bradbury', '1953-10-19', None)\n",
            "(32, 'Dune', 'Frank Herbert', '1965-08-01', None)\n",
            "(34, 'Fahrenheit 451', 'Ray Bradbury', '1953-10-19', None)\n",
            "(35, 'Dune', 'Frank Herbert', '1965-08-01', None)\n"
          ]
        }
      ]
    },
    {
      "cell_type": "markdown",
      "source": [
        "18. Удаление таблицы\n",
        "Удалите таблицу books и проверьте её существование."
      ],
      "metadata": {
        "id": "WUa6OlZmPimk"
      }
    },
    {
      "cell_type": "code",
      "source": [
        "import sqlite3\n",
        "def setup_database():\n",
        "    conn = sqlite3.connect('library.db')\n",
        "    cursor = conn.cursor()\n",
        "    cursor.execute('''\n",
        "    CREATE TABLE IF NOT EXISTS books (\n",
        "        id INTEGER PRIMARY KEY AUTOINCREMENT,\n",
        "        title TEXT NOT NULL,\n",
        "        author TEXT NOT NULL,\n",
        "        year_published DATE\n",
        "    )\n",
        "    ''')\n",
        "    conn.commit()\n",
        "    conn.close()\n",
        "def drop_books_table():\n",
        "    conn = sqlite3.connect('library.db')\n",
        "    cursor = conn.cursor()\n",
        "    cursor.execute('DROP TABLE IF EXISTS books')\n",
        "    conn.commit()\n",
        "    conn.close()\n",
        "def check_books_table_exists():\n",
        "    conn = sqlite3.connect('library.db')\n",
        "    cursor = conn.cursor()\n",
        "    cursor.execute(\"SELECT name FROM sqlite_master WHERE type='table' AND name='books';\")\n",
        "    result = cursor.fetchone()\n",
        "    if result:\n",
        "        print(\"Таблица 'books' существует.\")\n",
        "    else:\n",
        "        print(\"Таблица 'books' была успешно удалена.\")\n",
        "    conn.close()\n",
        "def main():\n",
        "    setup_database()\n",
        "    drop_books_table()\n",
        "    check_books_table_exists()\n",
        "if __name__ == \"__main__\":\n",
        "    main()"
      ],
      "metadata": {
        "colab": {
          "base_uri": "https://localhost:8080/"
        },
        "id": "V_G925L3Pi-I",
        "outputId": "dc8a515c-ce41-4164-bc07-88c48d615c87"
      },
      "execution_count": 55,
      "outputs": [
        {
          "output_type": "stream",
          "name": "stdout",
          "text": [
            "Таблица 'books' была успешно удалена.\n"
          ]
        }
      ]
    },
    {
      "cell_type": "markdown",
      "source": [
        "19. Композитный индекс\n",
        "Создайте композитный индекс для столбцов author и year_published в таблице books."
      ],
      "metadata": {
        "id": "Fl56CwBPP6s6"
      }
    },
    {
      "cell_type": "code",
      "source": [
        "import sqlite3\n",
        "def setup_database():\n",
        "    conn = sqlite3.connect('library.db')\n",
        "    cursor = conn.cursor()\n",
        "    cursor.execute('''\n",
        "    CREATE TABLE IF NOT EXISTS books (\n",
        "        id INTEGER PRIMARY KEY AUTOINCREMENT,\n",
        "        title TEXT NOT NULL,\n",
        "        author TEXT NOT NULL,\n",
        "        year_published INTEGER\n",
        "    )\n",
        "    ''')\n",
        "    conn.commit()\n",
        "    conn.close()\n",
        "def create_composite_index():\n",
        "    conn = sqlite3.connect('library.db')\n",
        "    cursor = conn.cursor()\n",
        "    cursor.execute('CREATE INDEX IF NOT EXISTS idx_author_year ON books (author, year_published);')\n",
        "    conn.commit()\n",
        "    conn.close()\n",
        "def main():\n",
        "    setup_database()\n",
        "    create_composite_index()\n",
        "    print(\"Композитный индекс для столбцов author и year_published был успешно создан.\")\n",
        "if __name__ == \"__main__\":\n",
        "    main()"
      ],
      "metadata": {
        "colab": {
          "base_uri": "https://localhost:8080/"
        },
        "id": "PIg7M6p5P9QG",
        "outputId": "19c0caf0-9117-4362-9363-d5f7e1565bf9"
      },
      "execution_count": 57,
      "outputs": [
        {
          "output_type": "stream",
          "name": "stdout",
          "text": [
            "Композитный индекс для столбцов author и year_published был успешно создан.\n"
          ]
        }
      ]
    },
    {
      "cell_type": "markdown",
      "source": [
        "20. Удаление базы данных\n",
        "Напишите программу, которая удаляет файл базы данных library.db, если он существует."
      ],
      "metadata": {
        "id": "g6dd7QWPQKC9"
      }
    },
    {
      "cell_type": "code",
      "source": [
        "import os\n",
        "def delete_database():\n",
        "    db_file = 'library.db'\n",
        "    if os.path.exists(db_file):\n",
        "        os.remove(db_file)\n",
        "        print(f\"Файл {db_file} был успешно удален.\")\n",
        "    else:\n",
        "        print(f\"Файл {db_file} не существует.\")\n",
        "if __name__ == \"__main__\":\n",
        "    delete_database()"
      ],
      "metadata": {
        "colab": {
          "base_uri": "https://localhost:8080/"
        },
        "id": "jkehxiTUQKX0",
        "outputId": "0ad8d4b5-3f35-4684-cd8b-305239eeb28a"
      },
      "execution_count": 58,
      "outputs": [
        {
          "output_type": "stream",
          "name": "stdout",
          "text": [
            "Файл library.db был успешно удален.\n"
          ]
        }
      ]
    },
    {
      "cell_type": "markdown",
      "source": [
        "21. Обязательное задание.\n",
        "Создать базу данных (БД).\n",
        "Для каждого класса из \"Задачи до 25 апреля\" реализовать соответствующую таблицу в базе данных.\n",
        "Обеспечить механизмы для ввода и вывода данных в/из таблиц."
      ],
      "metadata": {
        "id": "ksBUMOCNQXfE"
      }
    },
    {
      "cell_type": "code",
      "source": [
        "import sqlite3\n",
        "conn = sqlite3.connect('school.db')\n",
        "cursor = conn.cursor()\n",
        "cursor.execute('''\n",
        "CREATE TABLE IF NOT EXISTS Student (\n",
        "    id INTEGER PRIMARY KEY AUTOINCREMENT,\n",
        "    name TEXT NOT NULL,\n",
        "    age INTEGER NOT NULL\n",
        ")\n",
        "''')\n",
        "cursor.execute('''\n",
        "CREATE TABLE IF NOT EXISTS Course (\n",
        "    id INTEGER PRIMARY KEY AUTOINCREMENT,\n",
        "    title TEXT NOT NULL,\n",
        "    credits INTEGER NOT NULL\n",
        ")\n",
        "''')\n",
        "cursor.execute('''\n",
        "CREATE TABLE IF NOT EXISTS Enrollment (\n",
        "    student_id INTEGER,\n",
        "    course_id INTEGER,\n",
        "    FOREIGN KEY (student_id) REFERENCES Student(id),\n",
        "    FOREIGN KEY (course_id) REFERENCES Course(id)\n",
        ")\n",
        "''')\n",
        "conn.commit()\n",
        "conn.close()\n",
        "def add_student(name, age):\n",
        "    conn = sqlite3.connect('school.db')\n",
        "    cursor = conn.cursor()\n",
        "    cursor.execute('INSERT INTO Student (name, age) VALUES (?, ?)', (name, age))\n",
        "    conn.commit()\n",
        "    conn.close()\n",
        "def add_course(title, credits):\n",
        "    conn = sqlite3.connect('school.db')\n",
        "    cursor = conn.cursor()\n",
        "    cursor.execute('INSERT INTO Course (title, credits) VALUES (?, ?)', (title, credits))\n",
        "    conn.commit()\n",
        "    conn.close()\n",
        "def enroll_student(student_id, course_id):\n",
        "    conn = sqlite3.connect('school.db')\n",
        "    cursor = conn.cursor()\n",
        "    cursor.execute('INSERT INTO Enrollment (student_id, course_id) VALUES (?, ?)', (student_id, course_id))\n",
        "    conn.commit()\n",
        "    conn.close()\n",
        "def get_students():\n",
        "    conn = sqlite3.connect('school.db')\n",
        "    cursor = conn.cursor()\n",
        "    cursor.execute('SELECT * FROM Student')\n",
        "    students = cursor.fetchall()\n",
        "    conn.close()\n",
        "    return students\n",
        "def get_courses():\n",
        "    conn = sqlite3.connect('school.db')\n",
        "    cursor = conn.cursor()\n",
        "    cursor.execute('SELECT * FROM Course')\n",
        "    courses = cursor.fetchall()\n",
        "    conn.close()\n",
        "    return courses\n",
        "def get_enrollments():\n",
        "    conn = sqlite3.connect('school.db')\n",
        "    cursor = conn.cursor()\n",
        "    cursor.execute('''\n",
        "        SELECT Student.name, Course.title FROM Enrollment\n",
        "        JOIN Student ON Enrollment.student_id = Student.id\n",
        "        JOIN Course ON Enrollment.course_id = Course.id\n",
        "    ''')\n",
        "    enrollments = cursor.fetchall()\n",
        "    conn.close()\n",
        "    return enrollments\n",
        "add_student(\"Alice\", 20)\n",
        "add_student(\"Bob\", 22)\n",
        "add_course(\"Mathematics\", 4)\n",
        "add_course(\"Physics\", 3)\n",
        "enroll_student(1, 1)\n",
        "enroll_student(2, 2)\n",
        "print(\"Студенты:\", get_students())\n",
        "print(\"Курсы:\", get_courses())\n",
        "print(\"Записи на курсы:\", get_enrollments())"
      ],
      "metadata": {
        "colab": {
          "base_uri": "https://localhost:8080/"
        },
        "id": "9NgJ67JeQoK1",
        "outputId": "5ad6cb0b-2716-4255-c93e-5c5aecb3e7af"
      },
      "execution_count": 62,
      "outputs": [
        {
          "output_type": "stream",
          "name": "stdout",
          "text": [
            "Студенты: [(1, 'Alice', 20), (2, 'Bob', 22), (3, 'Alice', 20), (4, 'Bob', 22), (5, 'Alice', 20), (6, 'Bob', 22), (7, 'Alice', 20), (8, 'Bob', 22)]\n",
            "Курсы: [(1, 'Mathematics', 4), (2, 'Physics', 3), (3, 'Mathematics', 4), (4, 'Physics', 3), (5, 'Mathematics', 4), (6, 'Physics', 3), (7, 'Mathematics', 4), (8, 'Physics', 3)]\n",
            "Записи на курсы: [('Alice', 'Mathematics'), ('Bob', 'Physics'), ('Alice', 'Mathematics'), ('Bob', 'Physics'), ('Alice', 'Mathematics'), ('Bob', 'Physics'), ('Alice', 'Mathematics'), ('Bob', 'Physics')]\n"
          ]
        }
      ]
    }
  ]
}